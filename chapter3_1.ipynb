{
  "nbformat": 4,
  "nbformat_minor": 0,
  "metadata": {
    "colab": {
      "name": "chapter3-1.ipynb의 사본",
      "provenance": [],
      "authorship_tag": "ABX9TyMiQejEYSDUYpmSOJp+0dS8",
      "include_colab_link": true
    },
    "kernelspec": {
      "name": "python3",
      "display_name": "Python 3"
    }
  },
  "cells": [
    {
      "cell_type": "markdown",
      "metadata": {
        "id": "view-in-github",
        "colab_type": "text"
      },
      "source": [
        "<a href=\"https://colab.research.google.com/github/RaicLee/Jpub_AI22/blob/master/chapter3_1.ipynb\" target=\"_parent\"><img src=\"https://colab.research.google.com/assets/colab-badge.svg\" alt=\"Open In Colab\"/></a>"
      ]
    },
    {
      "cell_type": "code",
      "metadata": {
        "id": "Cpk6F_nyC44L",
        "colab_type": "code",
        "outputId": "8f6d9222-c4d6-4a1f-9564-a5d2b4214e96",
        "colab": {
          "base_uri": "https://localhost:8080/",
          "height": 64
        }
      },
      "source": [
        "from tensorflow.keras.datasets import mnist\n",
        "from tensorflow.keras.layers import Activation,Dense,Dropout\n",
        "from tensorflow.keras.models import Sequential\n",
        "from tensorflow.keras.utils import to_categorical\n",
        "import numpy as np\n",
        "import matplotlib.pyplot as plt\n",
        "%matplotlib inline"
      ],
      "execution_count": 0,
      "outputs": [
        {
          "output_type": "display_data",
          "data": {
            "text/html": [
              "<p style=\"color: red;\">\n",
              "The default version of TensorFlow in Colab will soon switch to TensorFlow 2.x.<br>\n",
              "We recommend you <a href=\"https://www.tensorflow.org/guide/migrate\" target=\"_blank\">upgrade</a> now \n",
              "or ensure your notebook will continue to use TensorFlow 1.x via the <code>%tensorflow_version 1.x</code> magic:\n",
              "<a href=\"https://colab.research.google.com/notebooks/tensorflow_version.ipynb\" target=\"_blank\">more info</a>.</p>\n"
            ],
            "text/plain": [
              "<IPython.core.display.HTML object>"
            ]
          },
          "metadata": {
            "tags": []
          }
        }
      ]
    },
    {
      "cell_type": "code",
      "metadata": {
        "id": "yl7BnJamDXPs",
        "colab_type": "code",
        "outputId": "a443b56f-bd5a-402d-e799-05b1c4ee7503",
        "colab": {
          "base_uri": "https://localhost:8080/",
          "height": 125
        }
      },
      "source": [
        "(train_images,train_labels),(test_images,test_labels)=mnist.load_data()\n",
        "print(train_images.shape)\n",
        "print(train_labels.shape)\n",
        "print(test_images.shape)\n",
        "print(test_labels.shape)\n"
      ],
      "execution_count": 0,
      "outputs": [
        {
          "output_type": "stream",
          "text": [
            "Downloading data from https://storage.googleapis.com/tensorflow/tf-keras-datasets/mnist.npz\n",
            "11493376/11490434 [==============================] - 0s 0us/step\n",
            "(60000, 28, 28)\n",
            "(60000,)\n",
            "(10000, 28, 28)\n",
            "(10000,)\n"
          ],
          "name": "stdout"
        }
      ]
    },
    {
      "cell_type": "code",
      "metadata": {
        "id": "67iPHCd1DlaO",
        "colab_type": "code",
        "outputId": "56761cd3-d273-4dbc-ab2e-321dfd2fa622",
        "colab": {
          "base_uri": "https://localhost:8080/",
          "height": 80
        }
      },
      "source": [
        "for i in range(10):\n",
        "  plt.subplot(1,10,i+1)\n",
        "  plt.imshow(train_images[i],'gray')\n",
        "plt.show()"
      ],
      "execution_count": 0,
      "outputs": [
        {
          "output_type": "display_data",
          "data": {
            "image/png": "[encoded data removed]",
            "text/plain": [
              "<Figure size 432x288 with 10 Axes>"
            ]
          },
          "metadata": {
            "tags": []
          }
        }
      ]
    },
    {
      "cell_type": "code",
      "metadata": {
        "id": "5Cn3FqDbbfJV",
        "colab_type": "code",
        "outputId": "6d13bb6f-60f1-4885-d371-1caf358b5297",
        "colab": {
          "base_uri": "https://localhost:8080/",
          "height": 35
        }
      },
      "source": [
        "train_images=train_images.reshape(train_images.shape[0],784)\n",
        "test_images=test_images.reshape(test_images.shape[0],784)\n",
        "train_labels=to_categorical(train_labels)\n",
        "test_labels=to_categorical(test_labels)\n",
        "print(train_labels.shape)"
      ],
      "execution_count": 0,
      "outputs": [
        {
          "output_type": "stream",
          "text": [
            "(60000, 10)\n"
          ],
          "name": "stdout"
        }
      ]
    },
    {
      "cell_type": "code",
      "metadata": {
        "id": "_pwnhWOWbycP",
        "colab_type": "code",
        "outputId": "d7b8f957-9504-4290-e030-6cf3ca5b3c97",
        "colab": {
          "base_uri": "https://localhost:8080/",
          "height": 469
        }
      },
      "source": [
        "model=Sequential()\n",
        "model.add(Dense(256,activation='relu',input_shape=(784,),kernel_initializer='he_normal'))\n",
        "model.add(Dense(128,activation='sigmoid'))\n",
        "model.add(Dropout(0.25))\n",
        "model.add(Dense(10,activation='softmax'))\n",
        "model.compile(loss='categorical_crossentropy',optimizer='rmsprop',metrics=['acc'])\n",
        "history=model.fit(train_images,train_labels,batch_size=500,epochs=10,validation_split=0.2,verbose=1)"
      ],
      "execution_count": 0,
      "outputs": [
        {
          "output_type": "stream",
          "text": [
            "WARNING:tensorflow:From /usr/local/lib/python3.6/dist-packages/tensorflow_core/python/ops/resource_variable_ops.py:1630: calling BaseResourceVariable.__init__ (from tensorflow.python.ops.resource_variable_ops) with constraint is deprecated and will be removed in a future version.\n",
            "Instructions for updating:\n",
            "If using Keras pass *_constraint arguments to layers.\n",
            "Train on 48000 samples, validate on 12000 samples\n",
            "Epoch 1/10\n",
            "48000/48000 [==============================] - 2s 47us/sample - loss: 0.8599 - acc: 0.7543 - val_loss: 0.3573 - val_acc: 0.9072\n",
            "Epoch 2/10\n",
            "48000/48000 [==============================] - 2s 42us/sample - loss: 0.3642 - acc: 0.8964 - val_loss: 0.2488 - val_acc: 0.9299\n",
            "Epoch 3/10\n",
            "48000/48000 [==============================] - 2s 42us/sample - loss: 0.2867 - acc: 0.9160 - val_loss: 0.2160 - val_acc: 0.9359\n",
            "Epoch 4/10\n",
            "48000/48000 [==============================] - 2s 41us/sample - loss: 0.2424 - acc: 0.9295 - val_loss: 0.1935 - val_acc: 0.9432\n",
            "Epoch 5/10\n",
            "48000/48000 [==============================] - 2s 42us/sample - loss: 0.2129 - acc: 0.9375 - val_loss: 0.1689 - val_acc: 0.9497\n",
            "Epoch 6/10\n",
            "48000/48000 [==============================] - 2s 42us/sample - loss: 0.1892 - acc: 0.9436 - val_loss: 0.1562 - val_acc: 0.9521\n",
            "Epoch 7/10\n",
            "48000/48000 [==============================] - 2s 43us/sample - loss: 0.1747 - acc: 0.9481 - val_loss: 0.1553 - val_acc: 0.9527\n",
            "Epoch 8/10\n",
            "48000/48000 [==============================] - 2s 42us/sample - loss: 0.1666 - acc: 0.9498 - val_loss: 0.1423 - val_acc: 0.9569\n",
            "Epoch 9/10\n",
            "48000/48000 [==============================] - 2s 42us/sample - loss: 0.1497 - acc: 0.9545 - val_loss: 0.1384 - val_acc: 0.9577\n",
            "Epoch 10/10\n",
            "48000/48000 [==============================] - 2s 42us/sample - loss: 0.1437 - acc: 0.9565 - val_loss: 0.1354 - val_acc: 0.9580\n"
          ],
          "name": "stdout"
        }
      ]
    },
    {
      "cell_type": "code",
      "metadata": {
        "id": "AMmt2qpgeEv1",
        "colab_type": "code",
        "outputId": "79eb29dc-526f-4b20-e927-c1e75acab34c",
        "colab": {
          "base_uri": "https://localhost:8080/",
          "height": 55
        }
      },
      "source": [
        "print(history.history)"
      ],
      "execution_count": 0,
      "outputs": [
        {
          "output_type": "stream",
          "text": [
            "{'loss': [0.8599216161916653, 0.36419958155602217, 0.28669011360034347, 0.2423622615945836, 0.21292613943417868, 0.18924324959516525, 0.17473880046357712, 0.1665701613140603, 0.14970644749701023, 0.14367732483272752], 'acc': [0.7543333, 0.89639586, 0.91595834, 0.9294583, 0.93754166, 0.94364583, 0.94808334, 0.9498125, 0.9545417, 0.9565], 'val_loss': [0.35725094998876256, 0.24882877928515276, 0.2160436554501454, 0.19346681609749794, 0.16885703491667906, 0.1562429911767443, 0.15534457936882973, 0.14229775251199803, 0.13842273907115063, 0.13544956936190525], 'val_acc': [0.90725, 0.9299167, 0.93591666, 0.9431667, 0.9496667, 0.95208335, 0.95266664, 0.9569167, 0.9576667, 0.958]}\n"
          ],
          "name": "stdout"
        }
      ]
    },
    {
      "cell_type": "code",
      "metadata": {
        "id": "QKjzGshyeMNj",
        "colab_type": "code",
        "outputId": "b92074ba-7072-4447-fdb6-cc2d6fb6734c",
        "colab": {
          "base_uri": "https://localhost:8080/",
          "height": 279
        }
      },
      "source": [
        "plt.plot(history.history['acc'],label='acc')\n",
        "plt.plot(history.history['val_acc'],label='val_acc')\n",
        "plt.ylabel('ACC')\n",
        "plt.xlabel('epoch')\n",
        "plt.legend(loc='best')\n",
        "plt.show()"
      ],
      "execution_count": 0,
      "outputs": [
        {
          "output_type": "display_data",
          "data": {
            "image/png": "[encoded data removed]",
            "text/plain": [
              "<Figure size 432x288 with 1 Axes>"
            ]
          },
          "metadata": {
            "tags": []
          }
        }
      ]
    },
    {
      "cell_type": "code",
      "metadata": {
        "id": "zAKEHoybeqip",
        "colab_type": "code",
        "outputId": "8e99dc32-c581-4419-ba02-04fdabce6ba6",
        "colab": {
          "base_uri": "https://localhost:8080/",
          "height": 71
        }
      },
      "source": [
        "test_loss,test_acc=model.evaluate(test_images,test_labels)\n",
        "print('loss: {:3f}\\nacc: {:3f}'.format(test_loss,test_acc))"
      ],
      "execution_count": 0,
      "outputs": [
        {
          "output_type": "stream",
          "text": [
            "10000/10000 [==============================] - 1s 52us/sample - loss: 0.1361 - acc: 0.9586\n",
            "loss: 0.136074\n",
            "acc: 0.958600\n"
          ],
          "name": "stdout"
        }
      ]
    },
    {
      "cell_type": "code",
      "metadata": {
        "id": "33bjNZShe_G_",
        "colab_type": "code",
        "outputId": "c299fae3-c1a6-4af4-a958-c83f25ef0763",
        "colab": {
          "base_uri": "https://localhost:8080/",
          "height": 98
        }
      },
      "source": [
        "for i in range(10):\n",
        "  plt.subplot(1,10,i+1)\n",
        "  plt.imshow(test_images[i].reshape(28,28),'gray')\n",
        "plt.show()\n",
        "\n",
        "test_predictions=model.predict(test_images[:10])\n",
        "test_predictions=np.argmax(test_predictions,axis=1)\n",
        "print(test_predictions)"
      ],
      "execution_count": 0,
      "outputs": [
        {
          "output_type": "display_data",
          "data": {
            "image/png": "[encoded data removed]",
            "text/plain": [
              "<Figure size 432x288 with 10 Axes>"
            ]
          },
          "metadata": {
            "tags": []
          }
        },
        {
          "output_type": "stream",
          "text": [
            "[7 2 1 0 4 1 4 9 6 9]\n"
          ],
          "name": "stdout"
        }
      ]
    }
  ]
}