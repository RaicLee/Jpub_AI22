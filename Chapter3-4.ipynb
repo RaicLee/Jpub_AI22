{
 "cells": [
  {
   "cell_type": "markdown",
   "metadata": {},
   "source": [
    "### 알파제로를 분석하며 배우는 인공지능 Jpub AI22\n",
    "Chapter 3-4 Resnet 을 활용한 이미지 분류\n",
    "Cifar 10 classfication\n",
    "\n",
    "Resnet Papers\n",
    "https://arxiv.org/abs/1512.03385\n",
    "https://arxiv.org/abs/1603.05027\n"
   ]
  },
  {
   "cell_type": "code",
   "execution_count": 1,
   "metadata": {},
   "outputs": [],
   "source": [
    "from tensorflow.keras.datasets import cifar10\n",
    "from tensorflow.keras.callbacks import LearningRateScheduler\n",
    "from tensorflow.keras.layers import Activation,Add,BatchNormalization,Conv2D,Dense,Dropout,GlobalAveragePooling2D,Input\n",
    "from tensorflow.keras.models import Model\n",
    "from tensorflow.keras.optimizers import Adam\n",
    "from tensorflow.keras.preprocessing.image import ImageDataGenerator\n",
    "from tensorflow.keras.regularizers import l2\n",
    "from tensorflow.keras.utils import to_categorical\n",
    "import numpy as np\n",
    "import matplotlib.pyplot as plt\n",
    "%matplotlib inline"
   ]
  },
  {
   "cell_type": "code",
   "execution_count": 2,
   "metadata": {},
   "outputs": [
    {
     "name": "stdout",
     "output_type": "stream",
     "text": [
      "(50000, 32, 32, 3)\n",
      "(50000, 1)\n",
      "(10000, 32, 32, 3)\n",
      "(10000, 1)\n"
     ]
    }
   ],
   "source": [
    "(train_images,train_labels),(test_images,test_labels)=cifar10.load_data()\n",
    "print(train_images.shape)\n",
    "print(train_labels.shape)\n",
    "print(test_images.shape)\n",
    "print(test_labels.shape)\n"
   ]
  },
  {
   "cell_type": "code",
   "execution_count": 3,
   "metadata": {},
   "outputs": [
    {
     "data": {
      "image/png": "[encoded data removed]",
      "text/plain": [
       "<Figure size 432x288 with 10 Axes>"
      ]
     },
     "metadata": {
      "needs_background": "light"
     },
     "output_type": "display_data"
    }
   ],
   "source": [
    "for i in range(10):\n",
    "    plt.subplot(1,10,i+1)\n",
    "    plt.imshow(train_images[i])\n",
    "plt.show()"
   ]
  },
  {
   "cell_type": "code",
   "execution_count": 4,
   "metadata": {},
   "outputs": [
    {
     "name": "stdout",
     "output_type": "stream",
     "text": [
      "(50000, 32, 32, 3)\n",
      "(50000, 10)\n",
      "(10000, 32, 32, 3)\n",
      "(10000, 10)\n"
     ]
    }
   ],
   "source": [
    "#data preprocessing\n",
    "train_images=train_images.astype('float32')/255.0\n",
    "test_images=test_images.astype('float32')/255.0\n",
    "train_labels=to_categorical(train_labels,10)\n",
    "test_labels=to_categorical(test_labels,10)\n",
    "print(train_images.shape)\n",
    "print(train_labels.shape)\n",
    "print(test_images.shape)\n",
    "print(test_labels.shape)"
   ]
  },
  {
   "cell_type": "markdown",
   "metadata": {},
   "source": [
    "Using Functional API of Keras\n",
    "DESC:\n",
    "\n",
    "model=Sequential()\n",
    "model.add(Dense(256,activation='sigmoid',input_shape=(784,))\n",
    "model.add(Dense(128,activation='sigmoid'))\n",
    "model.add(Dropout(0.5))\n",
    "model.add(Dense(10,activation='softmax'))\n",
    "\n",
    "Becomes\n",
    "\n",
    "input=Input(shape=(784,))\n",
    "x=Dense(256,activation='sigmoid')(input)\n",
    "x=Dense(128,activation='sigmoid')(x)\n",
    "x=Dropout(0.5)(x)\n",
    "x=Dense(10,activation='softmax')(x)\n",
    "\n",
    "model=Model(inputs=input,outputs=x)\n"
   ]
  },
  {
   "cell_type": "code",
   "execution_count": 5,
   "metadata": {},
   "outputs": [],
   "source": [
    "def conv(filters,kernel_size,strides=1):\n",
    "    return Conv2D(filters,kernel_size,strides=strides,padding='same',use_bias=False,kernel_initializer='he_normal',kernel_regularizer=l2(0.0001))\n"
   ]
  },
  {
   "cell_type": "code",
   "execution_count": 6,
   "metadata": {},
   "outputs": [],
   "source": [
    "def first_residual_unit(filters,strides):\n",
    "    \"\"\"\n",
    "    First Residual_block_unit Implementation\n",
    "    \n",
    "    \"\"\"\n",
    "    def f(x):\n",
    "        #BN -> RELU\n",
    "        x=BatchNormalization()(x)\n",
    "        b=Activation('relu')(x)\n",
    "        \n",
    "        #conv layer -> BN -> RELU\n",
    "        x=conv(filters//4,1,strides)(b)\n",
    "        x=BatchNormalization()(x)\n",
    "        x=Activation('relu')(x)\n",
    "        \n",
    "        #conv layer ->BN ->RELU\n",
    "        x=conv(filters//4,3)(x)\n",
    "        x=BatchNormalization()(x)\n",
    "        x=Activation('relu')(x)\n",
    "        \n",
    "        #conv layer ->\n",
    "        x=conv(filters,1)(x)\n",
    "        \n",
    "        #short cut manipulation\n",
    "        sc=conv(filters,1,strides)(b)\n",
    "        return Add()([x,sc])\n",
    "    return f"
   ]
  },
  {
   "cell_type": "code",
   "execution_count": 7,
   "metadata": {},
   "outputs": [],
   "source": [
    "def residual_unit(filters):\n",
    "    \"\"\"\n",
    "    Residual Block B\n",
    "    \"\"\"\n",
    "    def f(x):\n",
    "        sc=x\n",
    "        # -> BN -> RELU\n",
    "        x=BatchNormalization()(x)\n",
    "        x=Activation('relu')(x)\n",
    "        \n",
    "        # conv -> BN -> relu\n",
    "        x=conv(filters//4,1)(x)\n",
    "        x=BatchNormalization()(x)\n",
    "        x=Activation('relu')(x)\n",
    "        \n",
    "        #conv -> BN -> ReLu\n",
    "        x=conv(filters//4,3)(x)\n",
    "        x=BatchNormalization()(x)\n",
    "        x=Activation('relu')(x)\n",
    "        \n",
    "        # conv layer ->\n",
    "        x=conv(filters,1)(x)\n",
    "        return Add()([x,sc])\n",
    "    return f\n"
   ]
  },
  {
   "cell_type": "code",
   "execution_count": 8,
   "metadata": {},
   "outputs": [],
   "source": [
    "def residual_block(filters,strides,unit_size):\n",
    "    def f(x):\n",
    "        x=first_residual_unit(filters,strides)(x)\n",
    "        for i in range(unit_size-1):\n",
    "            x=residual_unit(filters)(x)\n",
    "        return x\n",
    "    return f\n"
   ]
  },
  {
   "cell_type": "code",
   "execution_count": 9,
   "metadata": {},
   "outputs": [
    {
     "name": "stdout",
     "output_type": "stream",
     "text": [
      "WARNING:tensorflow:From C:\\Users\\RaiX\\Anaconda3\\lib\\site-packages\\tensorflow\\python\\ops\\resource_variable_ops.py:435: colocate_with (from tensorflow.python.framework.ops) is deprecated and will be removed in a future version.\n",
      "Instructions for updating:\n",
      "Colocations handled automatically by placer.\n"
     ]
    }
   ],
   "source": [
    "# 1 Input Layer\n",
    "input=Input(shape=(32,32,3))\n",
    "\n",
    "# 2 Conv layer\n",
    "x=conv(16,3)(input)\n",
    "\n",
    "# 3 Residual block 54\n",
    "x=residual_block(64,1,18)(x)\n",
    "x=residual_block(128,2,18)(x)\n",
    "x=residual_block(256,2,18)(x)\n",
    " \n",
    "# 4 BN->RELU\n",
    "x=BatchNormalization()(x)\n",
    "x=Activation('relu')(x)\n",
    "\n",
    "# 5 Pooling\n",
    "x=GlobalAveragePooling2D()(x)\n",
    "output=Dense(10,activation='softmax',kernel_regularizer=l2(0.0001))(x)\n",
    "model=Model(inputs=input,outputs=output)\n"
   ]
  },
  {
   "cell_type": "code",
   "execution_count": 10,
   "metadata": {},
   "outputs": [],
   "source": [
    "model.compile(loss='categorical_crossentropy',optimizer=Adam(lr=0.0001),metrics=['acc'])\n"
   ]
  },
  {
   "cell_type": "code",
   "execution_count": 11,
   "metadata": {},
   "outputs": [
    {
     "name": "stdout",
     "output_type": "stream",
     "text": [
      "<tensorflow.python.keras.preprocessing.image.ImageDataGenerator object at 0x000002122781BF98>\n"
     ]
    }
   ],
   "source": [
    "# Image DataGenerator 준비\n",
    "train_gen=ImageDataGenerator(\n",
    "    featurewise_center=True,\n",
    "    featurewise_std_normalization=True,\n",
    "    width_shift_range=0.125,\n",
    "    height_shift_range=0.125,\n",
    "    horizontal_flip=True\n",
    ")\n",
    "test_gen=ImageDataGenerator(\n",
    "    featurewise_center=True,\n",
    "    featurewise_std_normalization=True\n",
    ")\n",
    "\n",
    "for data in (train_gen,test_gen):\n",
    "    data.fit(train_images)\n",
    "print(data)\n"
   ]
  },
  {
   "cell_type": "code",
   "execution_count": 12,
   "metadata": {},
   "outputs": [],
   "source": [
    "def step_decay(epoch):\n",
    "    x=0.1\n",
    "    if epoch>=80: \n",
    "        x=0.01\n",
    "    if epoch>=120: \n",
    "        x=0.001\n",
    "    return x\n",
    "lr_decay=LearningRateScheduler(step_decay)\n"
   ]
  },
  {
   "cell_type": "code",
   "execution_count": 13,
   "metadata": {
    "scrolled": true
   },
   "outputs": [
    {
     "name": "stdout",
     "output_type": "stream",
     "text": [
      "WARNING:tensorflow:From C:\\Users\\RaiX\\Anaconda3\\lib\\site-packages\\tensorflow\\python\\ops\\math_ops.py:3066: to_int32 (from tensorflow.python.ops.math_ops) is deprecated and will be removed in a future version.\n",
      "Instructions for updating:\n",
      "Use tf.cast instead.\n",
      "Epoch 1/10\n",
      "157/157 [==============================] - 14s 90ms/step - loss: 3.2343 - acc: 0.1783\n",
      "782/782 [==============================] - 279s 357ms/step - loss: 3.9989 - acc: 0.2372 - val_loss: 3.2343 - val_acc: 0.1783\n",
      "Epoch 2/10\n",
      "157/157 [==============================] - 12s 78ms/step - loss: 10.4286 - acc: 0.1108\n",
      "782/782 [==============================] - 256s 327ms/step - loss: 1.9756 - acc: 0.2981 - val_loss: 10.4286 - val_acc: 0.1108\n",
      "Epoch 3/10\n",
      "157/157 [==============================] - 12s 76ms/step - loss: 1.9571 - acc: 0.2886\n",
      "782/782 [==============================] - 256s 327ms/step - loss: 1.8628 - acc: 0.3122 - val_loss: 1.9571 - val_acc: 0.2886\n",
      "Epoch 4/10\n",
      "157/157 [==============================] - 12s 76ms/step - loss: 2.0079 - acc: 0.2704\n",
      "782/782 [==============================] - 256s 327ms/step - loss: 1.8462 - acc: 0.3215 - val_loss: 2.0079 - val_acc: 0.2704\n",
      "Epoch 5/10\n",
      "157/157 [==============================] - 12s 75ms/step - loss: 2.5229 - acc: 0.1669\n",
      "782/782 [==============================] - 255s 326ms/step - loss: 1.8436 - acc: 0.3172 - val_loss: 2.5229 - val_acc: 0.1669\n",
      "Epoch 6/10\n",
      "157/157 [==============================] - 12s 76ms/step - loss: 3.9910 - acc: 0.1254\n",
      "782/782 [==============================] - 254s 325ms/step - loss: 1.8369 - acc: 0.3242 - val_loss: 3.9910 - val_acc: 0.1254\n",
      "Epoch 7/10\n",
      "157/157 [==============================] - 12s 76ms/step - loss: 2.6251 - acc: 0.2129\n",
      "782/782 [==============================] - 255s 326ms/step - loss: 1.8573 - acc: 0.3174 - val_loss: 2.6251 - val_acc: 0.2129\n",
      "Epoch 8/10\n",
      "157/157 [==============================] - 12s 75ms/step - loss: 4.0604 - acc: 0.1629\n",
      "782/782 [==============================] - 253s 324ms/step - loss: 1.8458 - acc: 0.3215 - val_loss: 4.0604 - val_acc: 0.1629\n",
      "Epoch 9/10\n",
      "157/157 [==============================] - 12s 76ms/step - loss: 7.8290 - acc: 0.1171\n",
      "782/782 [==============================] - 254s 325ms/step - loss: 1.8547 - acc: 0.3208 - val_loss: 7.8290 - val_acc: 0.1171\n",
      "Epoch 10/10\n",
      "157/157 [==============================] - 12s 76ms/step - loss: 2.8796 - acc: 0.1342\n",
      "782/782 [==============================] - 254s 325ms/step - loss: 1.8433 - acc: 0.3190 - val_loss: 2.8796 - val_acc: 0.1342\n"
     ]
    }
   ],
   "source": [
    "batch_size=64\n",
    "history=model.fit_generator(\n",
    "    train_gen.flow(\n",
    "        train_images,\n",
    "        train_labels,\n",
    "        batch_size=batch_size),\n",
    "    epochs=10,\n",
    "    steps_per_epoch=train_images.shape[0]//batch_size,\n",
    "    validation_data=test_gen.flow(\n",
    "            test_images,\n",
    "            test_labels,\n",
    "            batch_size=batch_size),\n",
    "    validation_steps=test_images.shape[0]//batch_size,\n",
    "    callbacks=[lr_decay]\n",
    "    )"
   ]
  },
  {
   "cell_type": "code",
   "execution_count": 14,
   "metadata": {},
   "outputs": [],
   "source": [
    "model.save('resnet.h5')\n"
   ]
  },
  {
   "cell_type": "code",
   "execution_count": 16,
   "metadata": {},
   "outputs": [
    {
     "data": {
      "image/png": "[encoded data removed]",
      "text/plain": [
       "<Figure size 432x288 with 1 Axes>"
      ]
     },
     "metadata": {
      "needs_background": "light"
     },
     "output_type": "display_data"
    }
   ],
   "source": [
    "plt.plot(history.history['acc'],label='acc')\n",
    "plt.plot(history.history['val_acc'],label='val_acc')\n",
    "plt.ylabel('accuracy')\n",
    "plt.xlabel('epoch')\n",
    "plt.legend(loc='best')\n",
    "plt.show()"
   ]
  },
  {
   "cell_type": "code",
   "execution_count": 17,
   "metadata": {},
   "outputs": [
    {
     "name": "stdout",
     "output_type": "stream",
     "text": [
      "loss: 2.884887\n",
      "acc: 0.134200\n"
     ]
    }
   ],
   "source": [
    "batch_size=64\n",
    "test_loss,test_acc=model.evaluate_generator(\n",
    "    test_gen.flow(test_images,test_labels,batch_size=batch_size),\n",
    "    steps=10\n",
    ")\n",
    "print('loss: {:3f}\\nacc: {:3f}'.format(test_loss,test_acc))\n"
   ]
  }
 ],
 "metadata": {
  "kernelspec": {
   "display_name": "Python 3",
   "language": "python",
   "name": "python3"
  },
  "language_info": {
   "codemirror_mode": {
    "name": "ipython",
    "version": 3
   },
   "file_extension": ".py",
   "mimetype": "text/x-python",
   "name": "python",
   "nbconvert_exporter": "python",
   "pygments_lexer": "ipython3",
   "version": "3.7.0"
  }
 },
 "nbformat": 4,
 "nbformat_minor": 2
}
