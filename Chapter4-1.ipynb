{
 "cells": [
  {
   "cell_type": "markdown",
   "metadata": {},
   "source": [
    "## Learning Through Alphazero\n",
    "book: jPub AI22\n"
   ]
  },
  {
   "cell_type": "code",
   "execution_count": 1,
   "metadata": {},
   "outputs": [],
   "source": [
    "\"\"\"\n",
    "Implementation of Book chapter 4-1\n",
    "\"\"\"\n",
    "import numpy as np\n",
    "import random\n",
    "import math\n",
    "import pandas as pd\n",
    "import matplotlib.pyplot as plt\n",
    "%matplotlib inline\n"
   ]
  },
  {
   "cell_type": "code",
   "execution_count": 2,
   "metadata": {},
   "outputs": [],
   "source": [
    "\"\"\"\n",
    "Slot Arm Implementation\n",
    "\"\"\"\n",
    "\n",
    "\n",
    "class SlotArm():\n",
    "    def __init__(self,p):\n",
    "        self.p=p\n",
    "    \n",
    "    def draw(self):\n",
    "        if self.p>random.random():\n",
    "            return 1.0\n",
    "        else:\n",
    "            return 0.0"
   ]
  },
  {
   "cell_type": "code",
   "execution_count": 3,
   "metadata": {},
   "outputs": [],
   "source": [
    "\"\"\"\n",
    "Epsilon - Greedy \n",
    "\n",
    "Algorithm\n",
    "1. update select_arm execution time\n",
    "2. update value of select_arm\n",
    "\n",
    " Vt=(n-1)/n*Vt-1+1/n*Rewardt\n",
    "\n",
    "\n",
    "\"\"\"\n",
    "class EpsilonGreedy():\n",
    "    def __init__(self,epsilon):\n",
    "        self.epsilon=epsilon #probability \n",
    "        \n",
    "    # initializing arm execution number and value    \n",
    "    def initialize(self,n_arms):\n",
    "        self.n=np.zeros(n_arms) # each arms execution number\n",
    "        self.v=np.zeros(n_arms) # each arms value\n",
    "        \n",
    "    def select_arm(self):\n",
    "        #random selection\n",
    "        if self.epsilon>random.random():\n",
    "            return np.random.randint(0,len(self.v))\n",
    "        #select largest value\n",
    "        else:\n",
    "            return np.argmax(self.v)\n",
    "        \n",
    "    #algorithm parameter update\n",
    "    def update(self,chosen_arm,reward,t):\n",
    "        self.n[chosen_arm]+=1\n",
    "        # execution time +1\n",
    "        \n",
    "        \n",
    "        n=self.n[chosen_arm]\n",
    "        v=self.v[chosen_arm]\n",
    "        self.v[chosen_arm]=((n-1)/float(n))*v + (1/float(n))* reward\n",
    "        \n",
    "    def label(self):\n",
    "        return 'Epsilon-Greedy('+str(self.epsilon)+')'\n",
    "        "
   ]
  },
  {
   "cell_type": "code",
   "execution_count": 4,
   "metadata": {},
   "outputs": [],
   "source": [
    "\"\"\"\n",
    "UCB1\n",
    "1. update selected arm execution time +1\n",
    "2. if suceed, update success time +1\n",
    "3. if there is arm never used, don't update value\n",
    "4. update each arms value\n",
    "\n",
    "\"\"\"\n",
    "\n",
    "class UCB1():\n",
    "    def initialize(self,n_arms):\n",
    "        #execution time\n",
    "        self.n=np.zeros(n_arms)\n",
    "        #value\n",
    "        self.v=np.zeros(n_arms)\n",
    "        #each arms success time\n",
    "        self.w=np.zeros(n_arms)\n",
    "    #select arm\n",
    "    def select_arm(self):\n",
    "        for i in range(len(self.n)):\n",
    "            if self.n[i]==0:\n",
    "                return i\n",
    "        return np.argmax(self.v)\n",
    "    \n",
    "    #update\n",
    "    def update(self,chosen_arm,reward,t):\n",
    "        self.n[chosen_arm]+=1\n",
    "        if reward==1.0:\n",
    "            self.w[chosen_arm]+=1\n",
    "        \n",
    "        # Every arm must be executed even once\n",
    "        for i in range(len(self.n)):\n",
    "            if self.n[i]==0:\n",
    "                return \n",
    "        for i in range(len(self.v)):\n",
    "            self.v[i]=self.w[i]/self.n[i] + (2* math.log(t)/self.n[i])**0.5\n",
    "            \n",
    "    def label(self):\n",
    "        return 'UCB1'\n",
    "    \n",
    "    "
   ]
  },
  {
   "cell_type": "code",
   "execution_count": 5,
   "metadata": {},
   "outputs": [],
   "source": [
    "\"\"\"\n",
    "Simulation\n",
    "\"\"\"\n",
    "\n",
    "def play(algo, arms , num_sims , num_time):\n",
    "    times=np.zeros(num_sims * num_time)\n",
    "    rewards=np.zeros(num_sims* num_time)\n",
    "    \n",
    "    for simulation in range(num_sims):\n",
    "        algo.initialize(len(arms))\n",
    "        \n",
    "        for time in range(num_time):\n",
    "            index=simulation*num_time+ time\n",
    "            times[index]=time+1\n",
    "            chosen_arm=algo.select_arm()\n",
    "            reward=arms[chosen_arm].draw()\n",
    "            rewards[index]=reward\n",
    "            \n",
    "            algo.update(chosen_arm,reward,time+1)\n",
    "    return [times,rewards]\n",
    "        \n",
    "    "
   ]
  },
  {
   "cell_type": "code",
   "execution_count": 6,
   "metadata": {},
   "outputs": [
    {
     "name": "stdout",
     "output_type": "stream",
     "text": [
      "Epsilon-Greedy(0.1)\n",
      "UCB1\n"
     ]
    },
    {
     "data": {
      "image/png": "[encoded data removed]",
      "text/plain": [
       "<Figure size 432x288 with 1 Axes>"
      ]
     },
     "metadata": {
      "needs_background": "light"
     },
     "output_type": "display_data"
    }
   ],
   "source": [
    "arms=(SlotArm(0.3),\n",
    "     SlotArm(0.5),\n",
    "     SlotArm(0.9))\n",
    "\n",
    "algos=(EpsilonGreedy(0.1), UCB1())\n",
    "\n",
    "for algo in algos:\n",
    "    print(algo.label())\n",
    "    results=play(algo,arms,1000,250)\n",
    "    df=pd.DataFrame({'times': results[0], 'rewards': results[1]})\n",
    "    mean=df['rewards'].groupby(df['times']).mean()\n",
    "    plt.plot(mean,label=algo.label())\n",
    "    \n",
    "    \n",
    "plt.xlabel('Step')\n",
    "plt.ylabel('Average Reward')\n",
    "plt.legend(loc='best')\n",
    "plt.show()"
   ]
  }
 ],
 "metadata": {
  "kernelspec": {
   "display_name": "Python 3",
   "language": "python",
   "name": "python3"
  },
  "language_info": {
   "codemirror_mode": {
    "name": "ipython",
    "version": 3
   },
   "file_extension": ".py",
   "mimetype": "text/x-python",
   "name": "python",
   "nbconvert_exporter": "python",
   "pygments_lexer": "ipython3",
   "version": "3.7.0"
  }
 },
 "nbformat": 4,
 "nbformat_minor": 2
}
