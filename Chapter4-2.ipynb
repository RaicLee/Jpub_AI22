{
  "nbformat": 4,
  "nbformat_minor": 0,
  "metadata": {
    "colab": {
      "name": "Chapter4-2.ipynb",
      "provenance": [],
      "collapsed_sections": [],
      "authorship_tag": "ABX9TyPba8W4sRF6zWXY+NrTOoSH",
      "include_colab_link": true
    },
    "kernelspec": {
      "name": "python3",
      "display_name": "Python 3"
    }
  },
  "cells": [
    {
      "cell_type": "markdown",
      "metadata": {
        "id": "view-in-github",
        "colab_type": "text"
      },
      "source": [
        "<a href=\"https://colab.research.google.com/github/RaicLee/Jpub_AI22/blob/master/Chapter4-2.ipynb\" target=\"_parent\"><img src=\"https://colab.research.google.com/assets/colab-badge.svg\" alt=\"Open In Colab\"/></a>"
      ]
    },
    {
      "cell_type": "markdown",
      "metadata": {
        "id": "kImQD6XRXzJr",
        "colab_type": "text"
      },
      "source": [
        "정책 경사법 </br>\n",
        "(1) 세타 준비</br>\n",
        "(2) 파라미터 세타를 정책으로 변환 </br>\n",
        "(3) 정책에 따라 골인지점에 이를 때까지 행동 반복</br>\n",
        "(4) 성공한 행동을 많이 하도록 파라미터 세타를 변경 </br>\n",
        "(5) 정책 변화량이 임계값 이하가 될때까지 (2)~(4) 반복 </br>\n",
        "\n"
      ]
    },
    {
      "cell_type": "code",
      "metadata": {
        "id": "NaTvmk5oYXAv",
        "colab_type": "code",
        "colab": {}
      },
      "source": [
        "import numpy as np\n",
        "import matplotlib.pyplot as plt\n",
        "%matplotlib inline\n",
        "\n",
        "from matplotlib import animation\n",
        "from IPython.display import HTML\n"
      ],
      "execution_count": 0,
      "outputs": []
    },
    {
      "cell_type": "code",
      "metadata": {
        "id": "sUsb3rdIZWe3",
        "colab_type": "code",
        "colab": {}
      },
      "source": [
        "def drawwall(lis1,lis2):\n",
        "  plt.plot(lis1,lis2,color='k')"
      ],
      "execution_count": 0,
      "outputs": []
    },
    {
      "cell_type": "code",
      "metadata": {
        "id": "PxZYugcHYlwa",
        "colab_type": "code",
        "colab": {
          "base_uri": "https://localhost:8080/",
          "height": 194
        },
        "outputId": "e04ba94e-2004-4ee1-db16-33a7e7627132"
      },
      "source": [
        "#maze\n",
        "fig=plt.figure(figsize=(3,3))\n",
        "\n",
        "#wall\n",
        "drawwall([0,3],[3,3])\n",
        "drawwall([0,3],[0,0])\n",
        "drawwall([0,0],[0,2])\n",
        "drawwall([3,3],[1,3])\n",
        "drawwall([1,1],[1,2])\n",
        "drawwall([2,3],[2,2])\n",
        "drawwall([2,1],[1,1])\n",
        "drawwall([2,2],[0,1])\n",
        "\n",
        "for i in range(3):\n",
        "  for j in range(3):\n",
        "    plt.text(0.5+i,2.5-j,str(i+j*3),size=20,ha='center',va='center')\n",
        "  \n",
        "circle,=plt.plot([0.5],[2.5],marker='o',color='#d3d3d3',markersize=40)\n",
        "\n",
        "plt.tick_params(axis='both',which='both',bottom=False,top=False,labelbottom=False,right=False,left=False,labelleft=False)\n",
        "plt.box(False)\n",
        "\n",
        "\n",
        "\n"
      ],
      "execution_count": 6,
      "outputs": [
        {
          "output_type": "display_data",
          "data": {
            "image/png": "[encoded data removed]",
            "text/plain": [
              "<Figure size 216x216 with 1 Axes>"
            ]
          },
          "metadata": {
            "tags": []
          }
        }
      ]
    }
  ]
}