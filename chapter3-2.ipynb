{
  "nbformat": 4,
  "nbformat_minor": 0,
  "metadata": {
    "colab": {
      "name": "3-2.ipynb",
      "provenance": [],
      "collapsed_sections": [],
      "authorship_tag": "ABX9TyMUa353ljFMeAshsu+HYf04",
      "include_colab_link": true
    },
    "kernelspec": {
      "name": "python3",
      "display_name": "Python 3"
    }
  },
  "cells": [
    {
      "cell_type": "markdown",
      "metadata": {
        "id": "view-in-github",
        "colab_type": "text"
      },
      "source": [
        "<a href=\"https://colab.research.google.com/github/RaicLee/Jpub_AI22/blob/master/3_2.ipynb\" target=\"_parent\"><img src=\"https://colab.research.google.com/assets/colab-badge.svg\" alt=\"Open In Colab\"/></a>"
      ]
    },
    {
      "cell_type": "code",
      "metadata": {
        "id": "HyBmbS0dBYPI",
        "colab_type": "code",
        "colab": {
          "base_uri": "https://localhost:8080/",
          "height": 81
        },
        "outputId": "4784c275-94ad-4972-8560-0921feab3468"
      },
      "source": [
        "from tensorflow.keras.datasets import boston_housing\n",
        "from tensorflow.keras.layers import Activation, Dense, Dropout,Input\n",
        "from tensorflow.keras.models import Sequential\n",
        "from tensorflow.keras.callbacks import EarlyStopping\n",
        "from tensorflow.keras.optimizers import Adam\n",
        "import pandas as pd\n",
        "import numpy as np\n",
        "import matplotlib.pyplot as plt\n",
        "%matplotlib inline\n"
      ],
      "execution_count": 1,
      "outputs": [
        {
          "output_type": "display_data",
          "data": {
            "text/html": [
              "<p style=\"color: red;\">\n",
              "The default version of TensorFlow in Colab will soon switch to TensorFlow 2.x.<br>\n",
              "We recommend you <a href=\"https://www.tensorflow.org/guide/migrate\" target=\"_blank\">upgrade</a> now \n",
              "or ensure your notebook will continue to use TensorFlow 1.x via the <code>%tensorflow_version 1.x</code> magic:\n",
              "<a href=\"https://colab.research.google.com/notebooks/tensorflow_version.ipynb\" target=\"_blank\">more info</a>.</p>\n"
            ],
            "text/plain": [
              "<IPython.core.display.HTML object>"
            ]
          },
          "metadata": {
            "tags": []
          }
        }
      ]
    },
    {
      "cell_type": "code",
      "metadata": {
        "id": "Z3qp7qHjCjxN",
        "colab_type": "code",
        "colab": {
          "base_uri": "https://localhost:8080/",
          "height": 89
        },
        "outputId": "e0f46b9a-3532-4731-ef95-6ebde6642abc"
      },
      "source": [
        "(train_data,train_label),(test_data,test_label)=boston_housing.load_data()\n",
        "print(train_data.shape)\n",
        "print(train_label.shape)\n",
        "print(test_data.shape)\n",
        "print(test_label.shape)"
      ],
      "execution_count": 2,
      "outputs": [
        {
          "output_type": "stream",
          "text": [
            "(404, 13)\n",
            "(404,)\n",
            "(102, 13)\n",
            "(102,)\n"
          ],
          "name": "stdout"
        }
      ]
    },
    {
      "cell_type": "code",
      "metadata": {
        "id": "tFrcP2arDYQE",
        "colab_type": "code",
        "colab": {
          "base_uri": "https://localhost:8080/",
          "height": 35
        },
        "outputId": "71f0cdd3-554e-4552-f812-b596c414f0ea"
      },
      "source": [
        "columns_name=['CRIM','ZN','INDUS','CHAS','NOX','RM','AGE','DIS','RAD','TAX','PTRATIO','B','LSTAT']\n",
        "print(columns_name)"
      ],
      "execution_count": 3,
      "outputs": [
        {
          "output_type": "stream",
          "text": [
            "['CRIM', 'ZN', 'INDUS', 'CHAS', 'NOX', 'RM', 'AGE', 'DIS', 'RAD', 'TAX', 'PTRATIO', 'B', 'LSTAT']\n"
          ],
          "name": "stdout"
        }
      ]
    },
    {
      "cell_type": "code",
      "metadata": {
        "id": "ILjxU5w4DtHz",
        "colab_type": "code",
        "colab": {
          "base_uri": "https://localhost:8080/",
          "height": 161
        },
        "outputId": "23031c47-460c-48a8-ffca-41f5f8d9bb4b"
      },
      "source": [
        "df=pd.DataFrame(train_data,columns=columns_name)\n",
        "print(df.head(5))"
      ],
      "execution_count": 4,
      "outputs": [
        {
          "output_type": "stream",
          "text": [
            "      CRIM    ZN  INDUS  CHAS    NOX  ...   RAD    TAX  PTRATIO       B  LSTAT\n",
            "0  1.23247   0.0   8.14   0.0  0.538  ...   4.0  307.0     21.0  396.90  18.72\n",
            "1  0.02177  82.5   2.03   0.0  0.415  ...   2.0  348.0     14.7  395.38   3.11\n",
            "2  4.89822   0.0  18.10   0.0  0.631  ...  24.0  666.0     20.2  375.52   3.26\n",
            "3  0.03961   0.0   5.19   0.0  0.515  ...   5.0  224.0     20.2  396.90   8.01\n",
            "4  3.69311   0.0  18.10   0.0  0.713  ...  24.0  666.0     20.2  391.43  14.65\n",
            "\n",
            "[5 rows x 13 columns]\n"
          ],
          "name": "stdout"
        }
      ]
    },
    {
      "cell_type": "code",
      "metadata": {
        "id": "gF_JoVvFExkI",
        "colab_type": "code",
        "colab": {
          "base_uri": "https://localhost:8080/",
          "height": 35
        },
        "outputId": "f4666da5-7439-4732-b84d-d726ee8296d2"
      },
      "source": [
        "print(train_label[:10])"
      ],
      "execution_count": 5,
      "outputs": [
        {
          "output_type": "stream",
          "text": [
            "[15.2 42.3 50.  21.1 17.7 18.5 11.3 15.6 15.6 14.4]\n"
          ],
          "name": "stdout"
        }
      ]
    },
    {
      "cell_type": "code",
      "metadata": {
        "id": "T05AP1POEwVS",
        "colab_type": "code",
        "colab": {
          "base_uri": "https://localhost:8080/",
          "height": 35
        },
        "outputId": "1e83b483-6ab4-428d-a25c-fa7d7026cbcf"
      },
      "source": [
        "print(train_data.shape)\n",
        "order=np.argsort(np.random.random(train_label.shape))\n",
        "#order is value mixed in range of 0 to 403\n",
        "train_data=train_data[order]\n",
        "train_label=train_label[order]"
      ],
      "execution_count": 6,
      "outputs": [
        {
          "output_type": "stream",
          "text": [
            "(404, 13)\n"
          ],
          "name": "stdout"
        }
      ]
    },
    {
      "cell_type": "code",
      "metadata": {
        "id": "f_acy1dEHzwk",
        "colab_type": "code",
        "colab": {
          "base_uri": "https://localhost:8080/",
          "height": 35
        },
        "outputId": "ba9ec4a7-38f6-4ae8-b86b-3dcda027345a"
      },
      "source": [
        "mean=train_data.mean(axis=0)\n",
        "print(mean.shape)"
      ],
      "execution_count": 7,
      "outputs": [
        {
          "output_type": "stream",
          "text": [
            "(13,)\n"
          ],
          "name": "stdout"
        }
      ]
    },
    {
      "cell_type": "code",
      "metadata": {
        "id": "GUc1BulQHVmh",
        "colab_type": "code",
        "colab": {
          "base_uri": "https://localhost:8080/",
          "height": 35
        },
        "outputId": "f5b404b4-7892-47f9-b4c3-0933e2442f4e"
      },
      "source": [
        "std=train_data.std(axis=0)\n",
        "print(std.shape)"
      ],
      "execution_count": 8,
      "outputs": [
        {
          "output_type": "stream",
          "text": [
            "(13,)\n"
          ],
          "name": "stdout"
        }
      ]
    },
    {
      "cell_type": "code",
      "metadata": {
        "id": "v-vL9LbEL76C",
        "colab_type": "code",
        "colab": {
          "base_uri": "https://localhost:8080/",
          "height": 485
        },
        "outputId": "a7a22800-f547-4baa-f7ee-3433f0d9db3a"
      },
      "source": [
        "train_data=(train_data-mean)/std\n",
        "print(train_data)\n",
        "mean=test_data.mean(axis=0)\n",
        "std=test_data.std(axis=0)\n",
        "test_data=(test_data-mean)/std\n",
        "print(test_data)"
      ],
      "execution_count": 9,
      "outputs": [
        {
          "output_type": "stream",
          "text": [
            "[[-3.97252690e-01  1.41205707e+00 -1.12664623e+00 ... -1.49067405e+00\n",
            "   4.15841241e-01 -8.36486913e-01]\n",
            " [ 8.78463421e-02 -4.83615471e-01  1.02832580e+00 ...  7.84476371e-01\n",
            "  -8.84820144e-04 -7.75760075e-01]\n",
            " [-3.95379307e-01  1.20142679e+00 -6.90065950e-01 ... -3.98601849e-01\n",
            "   4.48077135e-01 -1.34714441e+00]\n",
            " ...\n",
            " [-3.61609648e-01 -4.83615471e-01 -7.20935262e-01 ... -4.89607866e-01\n",
            "   4.30416546e-01  1.20338278e+00]\n",
            " [-3.98564817e-01 -4.83615471e-01 -1.03697823e+00 ... -8.53631933e-01\n",
            "   3.84882016e-01 -1.02280789e+00]\n",
            " [ 3.55117151e-01 -4.83615471e-01  1.02832580e+00 ...  7.84476371e-01\n",
            "  -3.70267736e-01  4.08413266e-01]]\n",
            "[[ 2.8040301  -0.50784934  0.96960877 ...  0.90513041 -4.27829517\n",
            "   2.51324773]\n",
            " [-0.55530596 -0.50784934 -0.17801704 ... -0.28485844  0.3909446\n",
            "   0.58604286]\n",
            " [-0.56808398 -0.50784934 -0.86176938 ...  0.90513041  0.41570668\n",
            "  -0.38506427]\n",
            " ...\n",
            " [-0.23539182 -0.50784934  1.17955762 ... -1.82192738  0.32313459\n",
            "  -1.55879807]\n",
            " [-0.5113909  -0.50784934 -0.71849348 ... -0.48318992  0.34967446\n",
            "  -0.38956708]\n",
            " [-0.03148414 -0.50784934  1.17955762 ... -1.82192738 -1.57465677\n",
            "  -0.3745577 ]]\n"
          ],
          "name": "stdout"
        }
      ]
    },
    {
      "cell_type": "code",
      "metadata": {
        "id": "-qTKMCxpMWED",
        "colab_type": "code",
        "colab": {
          "base_uri": "https://localhost:8080/",
          "height": 161
        },
        "outputId": "dddf3dd6-f465-4863-85a3-64db91313324"
      },
      "source": [
        "df=pd.DataFrame(train_data,columns=columns_name)\n",
        "print(df.head())"
      ],
      "execution_count": 10,
      "outputs": [
        {
          "output_type": "stream",
          "text": [
            "       CRIM        ZN     INDUS  ...   PTRATIO         B     LSTAT\n",
            "0 -0.397253  1.412057 -1.126646  ... -1.490674  0.415841 -0.836487\n",
            "1  0.087846 -0.483615  1.028326  ...  0.784476 -0.000885 -0.775760\n",
            "2 -0.395379  1.201427 -0.690066  ... -0.398602  0.448077 -1.347144\n",
            "3 -0.403759  3.097099 -1.022279  ... -0.262093  0.400521 -0.880652\n",
            "4 -0.348692 -0.483615 -0.720935  ... -0.489608  0.289557 -1.119419\n",
            "\n",
            "[5 rows x 13 columns]\n"
          ],
          "name": "stdout"
        }
      ]
    },
    {
      "cell_type": "code",
      "metadata": {
        "id": "HBLIC8CtNAJP",
        "colab_type": "code",
        "colab": {
          "base_uri": "https://localhost:8080/",
          "height": 1000
        },
        "outputId": "a1afa61f-420c-42f1-a180-1be2bf322aad"
      },
      "source": [
        "model=Sequential()\n",
        "model.add(Dense(64,activation='relu',kernel_initializer='he_normal',input_shape=(13,)))\n",
        "model.add(Dense(64,activation='relu',kernel_initializer='he_normal'))\n",
        "model.add(Dense(1))\n",
        "\n",
        "model.compile(optimizer=Adam(lr=0.001),loss='mse',metrics=['mae'])\n",
        "early_stop=EarlyStopping(monitor='val_loss',patience=20)\n",
        "history=model.fit(train_data,train_label,epochs=500,validation_split=0.2,callbacks=[early_stop])\n"
      ],
      "execution_count": 14,
      "outputs": [
        {
          "output_type": "stream",
          "text": [
            "Train on 323 samples, validate on 81 samples\n",
            "Epoch 1/500\n",
            "323/323 [==============================] - 0s 292us/sample - loss: 464.1768 - mean_absolute_error: 19.7539 - val_loss: 453.7449 - val_mean_absolute_error: 19.6369\n",
            "Epoch 2/500\n",
            "323/323 [==============================] - 0s 69us/sample - loss: 372.4583 - mean_absolute_error: 17.4444 - val_loss: 357.1695 - val_mean_absolute_error: 17.1863\n",
            "Epoch 3/500\n",
            "323/323 [==============================] - 0s 73us/sample - loss: 285.4160 - mean_absolute_error: 14.9813 - val_loss: 263.3344 - val_mean_absolute_error: 14.4086\n",
            "Epoch 4/500\n",
            "323/323 [==============================] - 0s 73us/sample - loss: 202.0045 - mean_absolute_error: 12.2856 - val_loss: 178.6349 - val_mean_absolute_error: 11.3663\n",
            "Epoch 5/500\n",
            "323/323 [==============================] - 0s 79us/sample - loss: 133.1447 - mean_absolute_error: 9.5918 - val_loss: 112.3157 - val_mean_absolute_error: 8.4607\n",
            "Epoch 6/500\n",
            "323/323 [==============================] - 0s 65us/sample - loss: 82.9960 - mean_absolute_error: 7.0713 - val_loss: 71.5622 - val_mean_absolute_error: 6.3655\n",
            "Epoch 7/500\n",
            "323/323 [==============================] - 0s 71us/sample - loss: 57.1188 - mean_absolute_error: 5.5905 - val_loss: 56.4942 - val_mean_absolute_error: 5.6239\n",
            "Epoch 8/500\n",
            "323/323 [==============================] - 0s 68us/sample - loss: 48.7224 - mean_absolute_error: 5.2132 - val_loss: 51.1633 - val_mean_absolute_error: 5.3304\n",
            "Epoch 9/500\n",
            "323/323 [==============================] - 0s 62us/sample - loss: 43.8033 - mean_absolute_error: 4.9366 - val_loss: 46.9666 - val_mean_absolute_error: 5.0411\n",
            "Epoch 10/500\n",
            "323/323 [==============================] - 0s 77us/sample - loss: 38.7817 - mean_absolute_error: 4.6224 - val_loss: 43.3913 - val_mean_absolute_error: 4.7784\n",
            "Epoch 11/500\n",
            "323/323 [==============================] - 0s 65us/sample - loss: 35.0065 - mean_absolute_error: 4.3287 - val_loss: 40.5873 - val_mean_absolute_error: 4.5379\n",
            "Epoch 12/500\n",
            "323/323 [==============================] - 0s 69us/sample - loss: 31.7284 - mean_absolute_error: 4.0875 - val_loss: 37.2311 - val_mean_absolute_error: 4.3341\n",
            "Epoch 13/500\n",
            "323/323 [==============================] - 0s 69us/sample - loss: 28.9751 - mean_absolute_error: 3.8796 - val_loss: 35.0649 - val_mean_absolute_error: 4.1658\n",
            "Epoch 14/500\n",
            "323/323 [==============================] - 0s 69us/sample - loss: 26.8400 - mean_absolute_error: 3.7184 - val_loss: 32.6661 - val_mean_absolute_error: 3.9893\n",
            "Epoch 15/500\n",
            "323/323 [==============================] - 0s 73us/sample - loss: 25.0207 - mean_absolute_error: 3.5750 - val_loss: 31.2289 - val_mean_absolute_error: 3.8450\n",
            "Epoch 16/500\n",
            "323/323 [==============================] - 0s 67us/sample - loss: 23.3496 - mean_absolute_error: 3.4646 - val_loss: 29.5192 - val_mean_absolute_error: 3.7290\n",
            "Epoch 17/500\n",
            "323/323 [==============================] - 0s 69us/sample - loss: 22.0680 - mean_absolute_error: 3.3683 - val_loss: 28.2876 - val_mean_absolute_error: 3.6404\n",
            "Epoch 18/500\n",
            "323/323 [==============================] - 0s 68us/sample - loss: 21.0566 - mean_absolute_error: 3.2549 - val_loss: 27.6112 - val_mean_absolute_error: 3.5758\n",
            "Epoch 19/500\n",
            "323/323 [==============================] - 0s 76us/sample - loss: 20.0601 - mean_absolute_error: 3.1607 - val_loss: 26.8154 - val_mean_absolute_error: 3.5054\n",
            "Epoch 20/500\n",
            "323/323 [==============================] - 0s 77us/sample - loss: 19.2166 - mean_absolute_error: 3.1255 - val_loss: 26.0413 - val_mean_absolute_error: 3.4463\n",
            "Epoch 21/500\n",
            "323/323 [==============================] - 0s 77us/sample - loss: 18.3885 - mean_absolute_error: 3.0806 - val_loss: 25.1866 - val_mean_absolute_error: 3.3775\n",
            "Epoch 22/500\n",
            "323/323 [==============================] - 0s 97us/sample - loss: 17.6901 - mean_absolute_error: 3.0658 - val_loss: 23.7981 - val_mean_absolute_error: 3.3013\n",
            "Epoch 23/500\n",
            "323/323 [==============================] - 0s 73us/sample - loss: 16.8967 - mean_absolute_error: 2.9757 - val_loss: 23.5749 - val_mean_absolute_error: 3.2608\n",
            "Epoch 24/500\n",
            "323/323 [==============================] - 0s 77us/sample - loss: 16.1856 - mean_absolute_error: 2.8649 - val_loss: 23.5665 - val_mean_absolute_error: 3.2418\n",
            "Epoch 25/500\n",
            "323/323 [==============================] - 0s 70us/sample - loss: 15.8204 - mean_absolute_error: 2.7795 - val_loss: 23.6294 - val_mean_absolute_error: 3.2502\n",
            "Epoch 26/500\n",
            "323/323 [==============================] - 0s 64us/sample - loss: 15.0731 - mean_absolute_error: 2.7613 - val_loss: 22.7793 - val_mean_absolute_error: 3.1611\n",
            "Epoch 27/500\n",
            "323/323 [==============================] - 0s 64us/sample - loss: 14.7173 - mean_absolute_error: 2.7566 - val_loss: 22.4419 - val_mean_absolute_error: 3.1398\n",
            "Epoch 28/500\n",
            "323/323 [==============================] - 0s 75us/sample - loss: 14.2985 - mean_absolute_error: 2.7083 - val_loss: 22.1646 - val_mean_absolute_error: 3.1197\n",
            "Epoch 29/500\n",
            "323/323 [==============================] - 0s 72us/sample - loss: 13.8973 - mean_absolute_error: 2.6676 - val_loss: 22.1690 - val_mean_absolute_error: 3.1406\n",
            "Epoch 30/500\n",
            "323/323 [==============================] - 0s 65us/sample - loss: 13.5977 - mean_absolute_error: 2.6364 - val_loss: 22.2059 - val_mean_absolute_error: 3.1511\n",
            "Epoch 31/500\n",
            "323/323 [==============================] - 0s 68us/sample - loss: 13.2124 - mean_absolute_error: 2.5992 - val_loss: 22.3453 - val_mean_absolute_error: 3.1591\n",
            "Epoch 32/500\n",
            "323/323 [==============================] - 0s 62us/sample - loss: 12.9335 - mean_absolute_error: 2.5645 - val_loss: 21.9517 - val_mean_absolute_error: 3.1348\n",
            "Epoch 33/500\n",
            "323/323 [==============================] - 0s 68us/sample - loss: 12.6729 - mean_absolute_error: 2.5252 - val_loss: 21.9097 - val_mean_absolute_error: 3.1243\n",
            "Epoch 34/500\n",
            "323/323 [==============================] - 0s 68us/sample - loss: 12.5437 - mean_absolute_error: 2.5338 - val_loss: 21.5765 - val_mean_absolute_error: 3.1269\n",
            "Epoch 35/500\n",
            "323/323 [==============================] - 0s 71us/sample - loss: 12.0636 - mean_absolute_error: 2.5004 - val_loss: 21.3074 - val_mean_absolute_error: 3.1094\n",
            "Epoch 36/500\n",
            "323/323 [==============================] - 0s 64us/sample - loss: 11.8507 - mean_absolute_error: 2.4685 - val_loss: 21.0145 - val_mean_absolute_error: 3.0895\n",
            "Epoch 37/500\n",
            "323/323 [==============================] - 0s 77us/sample - loss: 11.6260 - mean_absolute_error: 2.4678 - val_loss: 20.7535 - val_mean_absolute_error: 3.1037\n",
            "Epoch 38/500\n",
            "323/323 [==============================] - 0s 70us/sample - loss: 11.3467 - mean_absolute_error: 2.4395 - val_loss: 20.5753 - val_mean_absolute_error: 3.0988\n",
            "Epoch 39/500\n",
            "323/323 [==============================] - 0s 66us/sample - loss: 11.0517 - mean_absolute_error: 2.4154 - val_loss: 20.1906 - val_mean_absolute_error: 3.0769\n",
            "Epoch 40/500\n",
            "323/323 [==============================] - 0s 72us/sample - loss: 10.9603 - mean_absolute_error: 2.4496 - val_loss: 20.1233 - val_mean_absolute_error: 3.1062\n",
            "Epoch 41/500\n",
            "323/323 [==============================] - 0s 65us/sample - loss: 10.6842 - mean_absolute_error: 2.4171 - val_loss: 19.9496 - val_mean_absolute_error: 3.0908\n",
            "Epoch 42/500\n",
            "323/323 [==============================] - 0s 70us/sample - loss: 10.5665 - mean_absolute_error: 2.3782 - val_loss: 19.7068 - val_mean_absolute_error: 3.0617\n",
            "Epoch 43/500\n",
            "323/323 [==============================] - 0s 68us/sample - loss: 10.3386 - mean_absolute_error: 2.3784 - val_loss: 19.5468 - val_mean_absolute_error: 3.0363\n",
            "Epoch 44/500\n",
            "323/323 [==============================] - 0s 67us/sample - loss: 10.2713 - mean_absolute_error: 2.3842 - val_loss: 19.4618 - val_mean_absolute_error: 3.0115\n",
            "Epoch 45/500\n",
            "323/323 [==============================] - 0s 66us/sample - loss: 10.0778 - mean_absolute_error: 2.3399 - val_loss: 19.7974 - val_mean_absolute_error: 2.9975\n",
            "Epoch 46/500\n",
            "323/323 [==============================] - 0s 67us/sample - loss: 9.8595 - mean_absolute_error: 2.2944 - val_loss: 19.6537 - val_mean_absolute_error: 2.9980\n",
            "Epoch 47/500\n",
            "323/323 [==============================] - 0s 67us/sample - loss: 9.8304 - mean_absolute_error: 2.3000 - val_loss: 19.1491 - val_mean_absolute_error: 2.9785\n",
            "Epoch 48/500\n",
            "323/323 [==============================] - 0s 66us/sample - loss: 9.6299 - mean_absolute_error: 2.3076 - val_loss: 19.3416 - val_mean_absolute_error: 3.0110\n",
            "Epoch 49/500\n",
            "323/323 [==============================] - 0s 66us/sample - loss: 9.4944 - mean_absolute_error: 2.2889 - val_loss: 19.4667 - val_mean_absolute_error: 2.9935\n",
            "Epoch 50/500\n",
            "323/323 [==============================] - 0s 67us/sample - loss: 9.5140 - mean_absolute_error: 2.2497 - val_loss: 19.8822 - val_mean_absolute_error: 3.0098\n",
            "Epoch 51/500\n",
            "323/323 [==============================] - 0s 66us/sample - loss: 9.2532 - mean_absolute_error: 2.2263 - val_loss: 19.3358 - val_mean_absolute_error: 3.0111\n",
            "Epoch 52/500\n",
            "323/323 [==============================] - 0s 65us/sample - loss: 9.2086 - mean_absolute_error: 2.2659 - val_loss: 19.4832 - val_mean_absolute_error: 3.0667\n",
            "Epoch 53/500\n",
            "323/323 [==============================] - 0s 68us/sample - loss: 9.0472 - mean_absolute_error: 2.2483 - val_loss: 19.0006 - val_mean_absolute_error: 3.0096\n",
            "Epoch 54/500\n",
            "323/323 [==============================] - 0s 66us/sample - loss: 8.8805 - mean_absolute_error: 2.1943 - val_loss: 18.8984 - val_mean_absolute_error: 2.9678\n",
            "Epoch 55/500\n",
            "323/323 [==============================] - 0s 69us/sample - loss: 8.9056 - mean_absolute_error: 2.1880 - val_loss: 18.5341 - val_mean_absolute_error: 2.9652\n",
            "Epoch 56/500\n",
            "323/323 [==============================] - 0s 67us/sample - loss: 8.8075 - mean_absolute_error: 2.2056 - val_loss: 18.8166 - val_mean_absolute_error: 3.0119\n",
            "Epoch 57/500\n",
            "323/323 [==============================] - 0s 70us/sample - loss: 8.8159 - mean_absolute_error: 2.1854 - val_loss: 18.6758 - val_mean_absolute_error: 2.9737\n",
            "Epoch 58/500\n",
            "323/323 [==============================] - 0s 71us/sample - loss: 8.6184 - mean_absolute_error: 2.1739 - val_loss: 18.7200 - val_mean_absolute_error: 3.0256\n",
            "Epoch 59/500\n",
            "323/323 [==============================] - 0s 69us/sample - loss: 8.5118 - mean_absolute_error: 2.1500 - val_loss: 18.9967 - val_mean_absolute_error: 3.0260\n",
            "Epoch 60/500\n",
            "323/323 [==============================] - 0s 79us/sample - loss: 8.4618 - mean_absolute_error: 2.1434 - val_loss: 18.8161 - val_mean_absolute_error: 3.0260\n",
            "Epoch 61/500\n",
            "323/323 [==============================] - 0s 67us/sample - loss: 8.3488 - mean_absolute_error: 2.1262 - val_loss: 19.0757 - val_mean_absolute_error: 3.0194\n",
            "Epoch 62/500\n",
            "323/323 [==============================] - 0s 68us/sample - loss: 8.3356 - mean_absolute_error: 2.1209 - val_loss: 18.6288 - val_mean_absolute_error: 2.9911\n",
            "Epoch 63/500\n",
            "323/323 [==============================] - 0s 74us/sample - loss: 8.1341 - mean_absolute_error: 2.0959 - val_loss: 18.2068 - val_mean_absolute_error: 2.9559\n",
            "Epoch 64/500\n",
            "323/323 [==============================] - 0s 71us/sample - loss: 8.0950 - mean_absolute_error: 2.1023 - val_loss: 18.1691 - val_mean_absolute_error: 2.9740\n",
            "Epoch 65/500\n",
            "323/323 [==============================] - 0s 71us/sample - loss: 7.9826 - mean_absolute_error: 2.0882 - val_loss: 18.1573 - val_mean_absolute_error: 2.9540\n",
            "Epoch 66/500\n",
            "323/323 [==============================] - 0s 67us/sample - loss: 7.8784 - mean_absolute_error: 2.0792 - val_loss: 17.8755 - val_mean_absolute_error: 2.9375\n",
            "Epoch 67/500\n",
            "323/323 [==============================] - 0s 78us/sample - loss: 7.8254 - mean_absolute_error: 2.0675 - val_loss: 17.9738 - val_mean_absolute_error: 2.9492\n",
            "Epoch 68/500\n",
            "323/323 [==============================] - 0s 79us/sample - loss: 7.7336 - mean_absolute_error: 2.0640 - val_loss: 17.7965 - val_mean_absolute_error: 2.9510\n",
            "Epoch 69/500\n",
            "323/323 [==============================] - 0s 78us/sample - loss: 7.7641 - mean_absolute_error: 2.0763 - val_loss: 17.7816 - val_mean_absolute_error: 2.9491\n",
            "Epoch 70/500\n",
            "323/323 [==============================] - 0s 76us/sample - loss: 7.6515 - mean_absolute_error: 2.0465 - val_loss: 17.8056 - val_mean_absolute_error: 2.9220\n",
            "Epoch 71/500\n",
            "323/323 [==============================] - 0s 73us/sample - loss: 7.5337 - mean_absolute_error: 2.0281 - val_loss: 17.8631 - val_mean_absolute_error: 2.9588\n",
            "Epoch 72/500\n",
            "323/323 [==============================] - 0s 88us/sample - loss: 7.5001 - mean_absolute_error: 2.0312 - val_loss: 17.9490 - val_mean_absolute_error: 2.9678\n",
            "Epoch 73/500\n",
            "323/323 [==============================] - 0s 74us/sample - loss: 7.4320 - mean_absolute_error: 2.0133 - val_loss: 18.1945 - val_mean_absolute_error: 2.9632\n",
            "Epoch 74/500\n",
            "323/323 [==============================] - 0s 79us/sample - loss: 7.3891 - mean_absolute_error: 2.0098 - val_loss: 18.4693 - val_mean_absolute_error: 3.0093\n",
            "Epoch 75/500\n",
            "323/323 [==============================] - 0s 96us/sample - loss: 7.3446 - mean_absolute_error: 2.0203 - val_loss: 17.9627 - val_mean_absolute_error: 2.9772\n",
            "Epoch 76/500\n",
            "323/323 [==============================] - 0s 88us/sample - loss: 7.3342 - mean_absolute_error: 2.0059 - val_loss: 17.3429 - val_mean_absolute_error: 2.9242\n",
            "Epoch 77/500\n",
            "323/323 [==============================] - 0s 78us/sample - loss: 7.2225 - mean_absolute_error: 1.9918 - val_loss: 16.9236 - val_mean_absolute_error: 2.8807\n",
            "Epoch 78/500\n",
            "323/323 [==============================] - 0s 89us/sample - loss: 7.2024 - mean_absolute_error: 1.9818 - val_loss: 17.2221 - val_mean_absolute_error: 2.8983\n",
            "Epoch 79/500\n",
            "323/323 [==============================] - 0s 74us/sample - loss: 7.2741 - mean_absolute_error: 2.0046 - val_loss: 17.0757 - val_mean_absolute_error: 2.9072\n",
            "Epoch 80/500\n",
            "323/323 [==============================] - 0s 67us/sample - loss: 7.0935 - mean_absolute_error: 1.9730 - val_loss: 17.0732 - val_mean_absolute_error: 2.8711\n",
            "Epoch 81/500\n",
            "323/323 [==============================] - 0s 76us/sample - loss: 6.9317 - mean_absolute_error: 1.9427 - val_loss: 17.4385 - val_mean_absolute_error: 2.9045\n",
            "Epoch 82/500\n",
            "323/323 [==============================] - 0s 80us/sample - loss: 6.9367 - mean_absolute_error: 1.9500 - val_loss: 17.0508 - val_mean_absolute_error: 2.8836\n",
            "Epoch 83/500\n",
            "323/323 [==============================] - 0s 71us/sample - loss: 6.8082 - mean_absolute_error: 1.9396 - val_loss: 16.7726 - val_mean_absolute_error: 2.8489\n",
            "Epoch 84/500\n",
            "323/323 [==============================] - 0s 74us/sample - loss: 6.8638 - mean_absolute_error: 1.9473 - val_loss: 16.4875 - val_mean_absolute_error: 2.8320\n",
            "Epoch 85/500\n",
            "323/323 [==============================] - 0s 67us/sample - loss: 6.7854 - mean_absolute_error: 1.9219 - val_loss: 16.9378 - val_mean_absolute_error: 2.8559\n",
            "Epoch 86/500\n",
            "323/323 [==============================] - 0s 74us/sample - loss: 6.6631 - mean_absolute_error: 1.9014 - val_loss: 17.0130 - val_mean_absolute_error: 2.8681\n",
            "Epoch 87/500\n",
            "323/323 [==============================] - 0s 76us/sample - loss: 6.5848 - mean_absolute_error: 1.8972 - val_loss: 16.7409 - val_mean_absolute_error: 2.8596\n",
            "Epoch 88/500\n",
            "323/323 [==============================] - 0s 69us/sample - loss: 6.5511 - mean_absolute_error: 1.9004 - val_loss: 16.9527 - val_mean_absolute_error: 2.8880\n",
            "Epoch 89/500\n",
            "323/323 [==============================] - 0s 74us/sample - loss: 6.4640 - mean_absolute_error: 1.8871 - val_loss: 16.8326 - val_mean_absolute_error: 2.8701\n",
            "Epoch 90/500\n",
            "323/323 [==============================] - 0s 61us/sample - loss: 6.4947 - mean_absolute_error: 1.8916 - val_loss: 16.7003 - val_mean_absolute_error: 2.8533\n",
            "Epoch 91/500\n",
            "323/323 [==============================] - 0s 67us/sample - loss: 6.6356 - mean_absolute_error: 1.9082 - val_loss: 16.5593 - val_mean_absolute_error: 2.8231\n",
            "Epoch 92/500\n",
            "323/323 [==============================] - 0s 60us/sample - loss: 6.4586 - mean_absolute_error: 1.9101 - val_loss: 16.9593 - val_mean_absolute_error: 2.8718\n",
            "Epoch 93/500\n",
            "323/323 [==============================] - 0s 69us/sample - loss: 6.3472 - mean_absolute_error: 1.8571 - val_loss: 16.4020 - val_mean_absolute_error: 2.8174\n",
            "Epoch 94/500\n",
            "323/323 [==============================] - 0s 69us/sample - loss: 6.3905 - mean_absolute_error: 1.8892 - val_loss: 16.1969 - val_mean_absolute_error: 2.8235\n",
            "Epoch 95/500\n",
            "323/323 [==============================] - 0s 67us/sample - loss: 6.2909 - mean_absolute_error: 1.8543 - val_loss: 16.3785 - val_mean_absolute_error: 2.8392\n",
            "Epoch 96/500\n",
            "323/323 [==============================] - 0s 69us/sample - loss: 6.4582 - mean_absolute_error: 1.8775 - val_loss: 16.1996 - val_mean_absolute_error: 2.8212\n",
            "Epoch 97/500\n",
            "323/323 [==============================] - 0s 71us/sample - loss: 6.2195 - mean_absolute_error: 1.8709 - val_loss: 16.4739 - val_mean_absolute_error: 2.8769\n",
            "Epoch 98/500\n",
            "323/323 [==============================] - 0s 78us/sample - loss: 6.1292 - mean_absolute_error: 1.8565 - val_loss: 16.6129 - val_mean_absolute_error: 2.8619\n",
            "Epoch 99/500\n",
            "323/323 [==============================] - 0s 63us/sample - loss: 6.0528 - mean_absolute_error: 1.8252 - val_loss: 16.5183 - val_mean_absolute_error: 2.8523\n",
            "Epoch 100/500\n",
            "323/323 [==============================] - 0s 78us/sample - loss: 5.9798 - mean_absolute_error: 1.8184 - val_loss: 16.3569 - val_mean_absolute_error: 2.8467\n",
            "Epoch 101/500\n",
            "323/323 [==============================] - 0s 65us/sample - loss: 5.9146 - mean_absolute_error: 1.8044 - val_loss: 16.3705 - val_mean_absolute_error: 2.8568\n",
            "Epoch 102/500\n",
            "323/323 [==============================] - 0s 67us/sample - loss: 5.9827 - mean_absolute_error: 1.8097 - val_loss: 16.7715 - val_mean_absolute_error: 2.8810\n",
            "Epoch 103/500\n",
            "323/323 [==============================] - 0s 69us/sample - loss: 5.8983 - mean_absolute_error: 1.7993 - val_loss: 16.1845 - val_mean_absolute_error: 2.7945\n",
            "Epoch 104/500\n",
            "323/323 [==============================] - 0s 73us/sample - loss: 5.9528 - mean_absolute_error: 1.8196 - val_loss: 16.4531 - val_mean_absolute_error: 2.8505\n",
            "Epoch 105/500\n",
            "323/323 [==============================] - 0s 73us/sample - loss: 5.8493 - mean_absolute_error: 1.7950 - val_loss: 16.7234 - val_mean_absolute_error: 2.8579\n",
            "Epoch 106/500\n",
            "323/323 [==============================] - 0s 69us/sample - loss: 5.7808 - mean_absolute_error: 1.7795 - val_loss: 16.7979 - val_mean_absolute_error: 2.8885\n",
            "Epoch 107/500\n",
            "323/323 [==============================] - 0s 67us/sample - loss: 5.6561 - mean_absolute_error: 1.7542 - val_loss: 16.1450 - val_mean_absolute_error: 2.8006\n",
            "Epoch 108/500\n",
            "323/323 [==============================] - 0s 75us/sample - loss: 5.6690 - mean_absolute_error: 1.7538 - val_loss: 16.0499 - val_mean_absolute_error: 2.8163\n",
            "Epoch 109/500\n",
            "323/323 [==============================] - 0s 68us/sample - loss: 5.8248 - mean_absolute_error: 1.8046 - val_loss: 15.6872 - val_mean_absolute_error: 2.8366\n",
            "Epoch 110/500\n",
            "323/323 [==============================] - 0s 74us/sample - loss: 5.9150 - mean_absolute_error: 1.8022 - val_loss: 15.7024 - val_mean_absolute_error: 2.8519\n",
            "Epoch 111/500\n",
            "323/323 [==============================] - 0s 70us/sample - loss: 5.8457 - mean_absolute_error: 1.7828 - val_loss: 15.7095 - val_mean_absolute_error: 2.8593\n",
            "Epoch 112/500\n",
            "323/323 [==============================] - 0s 70us/sample - loss: 5.7649 - mean_absolute_error: 1.7790 - val_loss: 15.9703 - val_mean_absolute_error: 2.8507\n",
            "Epoch 113/500\n",
            "323/323 [==============================] - 0s 68us/sample - loss: 5.6366 - mean_absolute_error: 1.7689 - val_loss: 15.6781 - val_mean_absolute_error: 2.8303\n",
            "Epoch 114/500\n",
            "323/323 [==============================] - 0s 71us/sample - loss: 5.4876 - mean_absolute_error: 1.7482 - val_loss: 15.7982 - val_mean_absolute_error: 2.8393\n",
            "Epoch 115/500\n",
            "323/323 [==============================] - 0s 75us/sample - loss: 5.4256 - mean_absolute_error: 1.7331 - val_loss: 15.8614 - val_mean_absolute_error: 2.8327\n",
            "Epoch 116/500\n",
            "323/323 [==============================] - 0s 61us/sample - loss: 5.4516 - mean_absolute_error: 1.7491 - val_loss: 15.6349 - val_mean_absolute_error: 2.8029\n",
            "Epoch 117/500\n",
            "323/323 [==============================] - 0s 81us/sample - loss: 5.3041 - mean_absolute_error: 1.7007 - val_loss: 15.3580 - val_mean_absolute_error: 2.7108\n",
            "Epoch 118/500\n",
            "323/323 [==============================] - 0s 69us/sample - loss: 5.2097 - mean_absolute_error: 1.6906 - val_loss: 15.4073 - val_mean_absolute_error: 2.7252\n",
            "Epoch 119/500\n",
            "323/323 [==============================] - 0s 69us/sample - loss: 5.2153 - mean_absolute_error: 1.6917 - val_loss: 15.2262 - val_mean_absolute_error: 2.7105\n",
            "Epoch 120/500\n",
            "323/323 [==============================] - 0s 72us/sample - loss: 5.3813 - mean_absolute_error: 1.7262 - val_loss: 14.8595 - val_mean_absolute_error: 2.7092\n",
            "Epoch 121/500\n",
            "323/323 [==============================] - 0s 69us/sample - loss: 5.1064 - mean_absolute_error: 1.6773 - val_loss: 15.2521 - val_mean_absolute_error: 2.7450\n",
            "Epoch 122/500\n",
            "323/323 [==============================] - 0s 70us/sample - loss: 5.0435 - mean_absolute_error: 1.6658 - val_loss: 15.2885 - val_mean_absolute_error: 2.7472\n",
            "Epoch 123/500\n",
            "323/323 [==============================] - 0s 76us/sample - loss: 5.0166 - mean_absolute_error: 1.6696 - val_loss: 15.3519 - val_mean_absolute_error: 2.7469\n",
            "Epoch 124/500\n",
            "323/323 [==============================] - 0s 74us/sample - loss: 4.9482 - mean_absolute_error: 1.6532 - val_loss: 15.4211 - val_mean_absolute_error: 2.7451\n",
            "Epoch 125/500\n",
            "323/323 [==============================] - 0s 69us/sample - loss: 5.0741 - mean_absolute_error: 1.6779 - val_loss: 15.2978 - val_mean_absolute_error: 2.7416\n",
            "Epoch 126/500\n",
            "323/323 [==============================] - 0s 79us/sample - loss: 5.0316 - mean_absolute_error: 1.6618 - val_loss: 15.0663 - val_mean_absolute_error: 2.6929\n",
            "Epoch 127/500\n",
            "323/323 [==============================] - 0s 66us/sample - loss: 4.8764 - mean_absolute_error: 1.6384 - val_loss: 15.3160 - val_mean_absolute_error: 2.7362\n",
            "Epoch 128/500\n",
            "323/323 [==============================] - 0s 67us/sample - loss: 4.8466 - mean_absolute_error: 1.6305 - val_loss: 15.3042 - val_mean_absolute_error: 2.7354\n",
            "Epoch 129/500\n",
            "323/323 [==============================] - 0s 70us/sample - loss: 4.7840 - mean_absolute_error: 1.6243 - val_loss: 15.3644 - val_mean_absolute_error: 2.7271\n",
            "Epoch 130/500\n",
            "323/323 [==============================] - 0s 71us/sample - loss: 4.8212 - mean_absolute_error: 1.6209 - val_loss: 15.9553 - val_mean_absolute_error: 2.7946\n",
            "Epoch 131/500\n",
            "323/323 [==============================] - 0s 63us/sample - loss: 4.8382 - mean_absolute_error: 1.6411 - val_loss: 15.5045 - val_mean_absolute_error: 2.7328\n",
            "Epoch 132/500\n",
            "323/323 [==============================] - 0s 66us/sample - loss: 4.8526 - mean_absolute_error: 1.6218 - val_loss: 15.3744 - val_mean_absolute_error: 2.7216\n",
            "Epoch 133/500\n",
            "323/323 [==============================] - 0s 72us/sample - loss: 4.7321 - mean_absolute_error: 1.6061 - val_loss: 15.0609 - val_mean_absolute_error: 2.6851\n",
            "Epoch 134/500\n",
            "323/323 [==============================] - 0s 82us/sample - loss: 4.6359 - mean_absolute_error: 1.5923 - val_loss: 15.2686 - val_mean_absolute_error: 2.6985\n",
            "Epoch 135/500\n",
            "323/323 [==============================] - 0s 75us/sample - loss: 4.7066 - mean_absolute_error: 1.6111 - val_loss: 15.2480 - val_mean_absolute_error: 2.7227\n",
            "Epoch 136/500\n",
            "323/323 [==============================] - 0s 73us/sample - loss: 4.6910 - mean_absolute_error: 1.6041 - val_loss: 15.0110 - val_mean_absolute_error: 2.6725\n",
            "Epoch 137/500\n",
            "323/323 [==============================] - 0s 75us/sample - loss: 4.6951 - mean_absolute_error: 1.5986 - val_loss: 15.1014 - val_mean_absolute_error: 2.6623\n",
            "Epoch 138/500\n",
            "323/323 [==============================] - 0s 74us/sample - loss: 4.7910 - mean_absolute_error: 1.6121 - val_loss: 15.1922 - val_mean_absolute_error: 2.6931\n",
            "Epoch 139/500\n",
            "323/323 [==============================] - 0s 73us/sample - loss: 4.6140 - mean_absolute_error: 1.5878 - val_loss: 15.4534 - val_mean_absolute_error: 2.7249\n",
            "Epoch 140/500\n",
            "323/323 [==============================] - 0s 80us/sample - loss: 4.5119 - mean_absolute_error: 1.5606 - val_loss: 15.0856 - val_mean_absolute_error: 2.6878\n"
          ],
          "name": "stdout"
        }
      ]
    },
    {
      "cell_type": "code",
      "metadata": {
        "id": "GiYVpoVuYoX2",
        "colab_type": "code",
        "colab": {
          "base_uri": "https://localhost:8080/",
          "height": 283
        },
        "outputId": "32eadb51-0195-4dc6-8bff-b40145e0a7b5"
      },
      "source": [
        "plt.plot(history.history['mean_absolute_error'],label='train_mae')\n",
        "plt.plot(history.history['val_mean_absolute_error'],label='val_mae')\n",
        "plt.xlabel('epoch')\n",
        "plt.ylabel('mae [1000$]')\n",
        "plt.legend(loc='best')\n",
        "plt.ylim([0,5])\n",
        "plt.show()"
      ],
      "execution_count": 15,
      "outputs": [
        {
          "output_type": "display_data",
          "data": {
            "image/png": "[encoded data removed]",
            "text/plain": [
              "<Figure size 432x288 with 1 Axes>"
            ]
          },
          "metadata": {
            "tags": []
          }
        }
      ]
    },
    {
      "cell_type": "code",
      "metadata": {
        "id": "qx5_fB3ia9V-",
        "colab_type": "code",
        "colab": {
          "base_uri": "https://localhost:8080/",
          "height": 71
        },
        "outputId": "757c5f93-93ee-47c3-a393-3b70d01899b8"
      },
      "source": [
        "test_loss,test_mae=model.evaluate(test_data,test_label)\n",
        "print('loss: {:3f}\\nmae: {:3f}'.format(test_loss,test_mae))\n"
      ],
      "execution_count": 16,
      "outputs": [
        {
          "output_type": "stream",
          "text": [
            "102/102 [==============================] - 0s 109us/sample - loss: 20.0944 - mean_absolute_error: 3.0544\n",
            "loss: 20.094358\n",
            "mae: 3.054415\n"
          ],
          "name": "stdout"
        }
      ]
    },
    {
      "cell_type": "code",
      "metadata": {
        "id": "J9I87OLRcnAO",
        "colab_type": "code",
        "colab": {
          "base_uri": "https://localhost:8080/",
          "height": 53
        },
        "outputId": "e33e2671-29b7-49c5-da2f-a0349de6cb52"
      },
      "source": [
        "print(\"real:   \",np.round(test_label[:10]))\n",
        "test_predictions=model.predict(test_data[:10]).flatten()\n",
        "print(\"predict:\",np.round(test_predictions))"
      ],
      "execution_count": 21,
      "outputs": [
        {
          "output_type": "stream",
          "text": [
            "real:    [ 7. 19. 19. 27. 22. 24. 31. 23. 20. 23.]\n",
            "predict: [ 7. 21. 24. 28. 29. 21. 27. 23. 19. 23.]\n"
          ],
          "name": "stdout"
        }
      ]
    }
  ]
}
